{
  "nbformat": 4,
  "nbformat_minor": 0,
  "metadata": {
    "language_info": {
      "codemirror_mode": {
        "name": "ipython",
        "version": 3
      },
      "file_extension": ".py",
      "mimetype": "text/x-python",
      "name": "python",
      "nbconvert_exporter": "python",
      "pygments_lexer": "ipython3",
      "version": "3.7.10"
    },
    "orig_nbformat": 2,
    "kernelspec": {
      "name": "python3710jvsc74a57bd097ae724bfa85b9b34df7982b8bb8c7216f435b92902d749e4263f71162bea840",
      "display_name": "Python 3.7.10 64-bit ('base': conda)"
    },
    "colab": {
      "name": "Копия блокнота \"Lab_1.ipynb\"",
      "provenance": [],
      "collapsed_sections": [],
      "include_colab_link": true
    }
  },
  "cells": [
    {
      "cell_type": "markdown",
      "metadata": {
        "id": "view-in-github",
        "colab_type": "text"
      },
      "source": [
        "<a href=\"https://colab.research.google.com/github/kateryna-hetalo/DS_KNU/blob/main/%D0%9A%D0%BE%D0%BF%D0%B8%D1%8F_%D0%B1%D0%BB%D0%BE%D0%BA%D0%BD%D0%BE%D1%82%D0%B0_%22Lab_1_ipynb%22.ipynb\" target=\"_parent\"><img src=\"https://colab.research.google.com/assets/colab-badge.svg\" alt=\"Open In Colab\"/></a>"
      ]
    },
    {
      "cell_type": "markdown",
      "metadata": {
        "id": "L4yDYuIwJXbG"
      },
      "source": [
        "# Lab 1 - Python introduction\n"
      ]
    },
    {
      "cell_type": "markdown",
      "metadata": {
        "id": "1l0UIt6XJXbb"
      },
      "source": [
        "### Exercise 0 - Example\n",
        "Assign the number 31 to a new variable, q. Write an expression that raises q to the 4th power "
      ]
    },
    {
      "cell_type": "code",
      "metadata": {
        "id": "7yb6N5H-JXbe",
        "colab": {
          "base_uri": "https://localhost:8080/"
        },
        "outputId": "8e53571c-4eaf-4938-a30f-3064acbdf353"
      },
      "source": [
        "# Your answer here\n",
        "q = 31\n",
        "q**4"
      ],
      "execution_count": null,
      "outputs": [
        {
          "output_type": "execute_result",
          "data": {
            "text/plain": [
              "923521"
            ]
          },
          "metadata": {
            "tags": []
          },
          "execution_count": 1
        }
      ]
    },
    {
      "cell_type": "markdown",
      "metadata": {
        "id": "4zhIYlLQJXbi"
      },
      "source": [
        "### Exercise 1\n",
        "Create arbitrary list, tuple and dictionary and print them"
      ]
    },
    {
      "cell_type": "code",
      "metadata": {
        "id": "ohwRnSmKJXbk",
        "colab": {
          "base_uri": "https://localhost:8080/"
        },
        "outputId": "26115a35-ca29-440b-c402-d126303aceab"
      },
      "source": [
        "# Your answer here\n",
        "a = ['Zodiac','Bundy','Holms','Damer','Larson']\n",
        "print(a)\n",
        "\n",
        "b = (1,2,3,)\n",
        "print(b)\n",
        "b_1 = (1,2,3,[1,2],4,[3,4])\n",
        "print(b_1)\n",
        "print(b_1[0])\n",
        "print(b_1[1])\n",
        "print(b_1[2])\n",
        "\n",
        "c = {'murderers': ['Zodiac','Bundy','Holms','Damer'],\n",
        "     'Larson':'journalist'}\n",
        "print(c)"
      ],
      "execution_count": null,
      "outputs": [
        {
          "output_type": "stream",
          "text": [
            "['Zodiac', 'Bundy', 'Holms', 'Damer', 'Larson']\n",
            "(1, 2, 3)\n",
            "(1, 2, 3, [1, 2], 4, [3, 4])\n",
            "1\n",
            "2\n",
            "3\n",
            "{'murderers': ['Zodiac', 'Bundy', 'Holms', 'Damer'], 'Larson': 'journalist'}\n"
          ],
          "name": "stdout"
        }
      ]
    },
    {
      "cell_type": "markdown",
      "metadata": {
        "id": "Dh4M6_wVJXbl"
      },
      "source": [
        "### Exercise 2\n",
        "Print the next elements of array s: 10th, from 10 to 20, all elements more than 0 "
      ]
    },
    {
      "cell_type": "code",
      "metadata": {
        "id": "Fya9GwAxJXbn",
        "colab": {
          "base_uri": "https://localhost:8080/"
        },
        "outputId": "c4815d1e-729a-4fde-a648-1cb0702aee97"
      },
      "source": [
        "# Your answer here\n",
        "import numpy as np\n",
        "s = np.random.normal(0,1,25)\n",
        "\n",
        "print(s[9],s[9:19])\n",
        "for i in range(25):\n",
        "    if s[i]>0:\n",
        "        print(s[i])\n"
      ],
      "execution_count": 28,
      "outputs": [
        {
          "output_type": "stream",
          "text": [
            "0.08392013406831755 [ 0.08392013  0.28481293  0.28192217 -0.02953894  1.24481422  0.6530356\n",
            " -0.41950438 -0.44157595 -0.19108455 -1.33918313]\n",
            "0.7150655213919457\n",
            "0.026902956775688696\n",
            "1.1124662731917732\n",
            "0.13607453589763072\n",
            "0.3529700061417509\n",
            "0.033168985595526\n",
            "0.08392013406831755\n",
            "0.2848129306091419\n",
            "0.2819221731746039\n",
            "1.244814218581075\n",
            "0.6530356028815741\n",
            "0.5429540000883596\n",
            "1.0784966723377511\n",
            "0.5430958513175188\n",
            "0.5144331657040224\n",
            "2.052592265115355\n"
          ],
          "name": "stdout"
        }
      ]
    },
    {
      "cell_type": "markdown",
      "metadata": {
        "id": "OTLSAD9MJXbo"
      },
      "source": [
        "### Exercise 3\n",
        "Make a function `pow` that raised base `number` to a fixed power `power`. If `power >= 50` print message \"power is too big\" and return `-1`"
      ]
    },
    {
      "cell_type": "code",
      "metadata": {
        "id": "jcZHhA6_JXbp",
        "colab": {
          "base_uri": "https://localhost:8080/"
        },
        "outputId": "70af191f-05be-4d09-c8de-f9dd65c29244"
      },
      "source": [
        "# Your answer here\n",
        "def pow(number, power):\n",
        "    if power >= 50:\n",
        "        print(\"power is too big\")\n",
        "        return -1\n",
        "print(pow(2,53))\n",
        "print(pow(2,50))\n",
        "\n",
        "def pow(number, power):\n",
        "    if power <= 4:\n",
        "        print(\"power is too small\")\n",
        "        return 1\n",
        "print(pow(2,4))\n",
        "    \n"
      ],
      "execution_count": null,
      "outputs": [
        {
          "output_type": "stream",
          "text": [
            "power is too big\n",
            "-1\n",
            "power is too big\n",
            "-1\n",
            "power is too small\n",
            "1\n"
          ],
          "name": "stdout"
        }
      ]
    },
    {
      "cell_type": "markdown",
      "metadata": {
        "id": "xJDiCn15JXbr"
      },
      "source": [
        "### Exercise 4\n",
        "Make a function `above(x,n)` which returns all elements `x > n`. By default `x = 10`. Use numpy arrays"
      ]
    },
    {
      "cell_type": "code",
      "metadata": {
        "id": "H76U-wzuJXbs",
        "colab": {
          "base_uri": "https://localhost:8080/"
        },
        "outputId": "ea089375-66cb-4794-e474-7947f033b0fd"
      },
      "source": [
        "import numpy as np\n",
        "# Your answer here\n",
        "list = [147, 8, 1, 2, 3, 41, 12, 33]\n",
        "an_array = np.array(list)\n",
        "\n",
        "def above(n, x = 10):\n",
        "  arr = []\n",
        "  for i in n:\n",
        "      if i<x:\n",
        "          arr.append(i)\n",
        "  return arr\n",
        "above(an_array)\n",
        "\n"
      ],
      "execution_count": 10,
      "outputs": [
        {
          "output_type": "execute_result",
          "data": {
            "text/plain": [
              "[8, 1, 2, 3]"
            ]
          },
          "metadata": {
            "tags": []
          },
          "execution_count": 10
        }
      ]
    },
    {
      "cell_type": "markdown",
      "metadata": {
        "id": "IGOMIer7JXbu"
      },
      "source": [
        "### Exercise 5\n",
        "Write a function `my_ifelse(x, exp, n)` which test array `x` with expression `exp` to number `n`. For instance, `my_ifelse(x,'>=',10)` returns all elements of array `x` which greater or equal 10. `exp` can be `<`, `>`, `<=`, `>=`, `==`. If `exp` dont match these expression array `x` is retured"
      ]
    },
    {
      "cell_type": "code",
      "metadata": {
        "id": "G9tRp-ioJXbv"
      },
      "source": [
        "import numpy as np\n",
        "# Your answer here\n",
        "\n",
        "x = np.random.normal(0,1,100)\n",
        "s  = []\n",
        "def my_ifelse(x, exp, n):\n",
        "    if exp == '==':\n",
        "        for i in range(100):\n",
        "            if x[i] == n:\n",
        "                s.append(x[i])\n",
        "        return s\n",
        "    elif exp == '<':\n",
        "        for i in range(100):\n",
        "            if x[i] < n:\n",
        "                s.append(x[i])\n",
        "        return s\n",
        "    elif exp == '>':\n",
        "        for i in range(100):\n",
        "            if x[i] > n:\n",
        "                s.append(x[i])\n",
        "        return s\n",
        "    elif exp == '>=':\n",
        "        for i in range(100):\n",
        "            if x[i] >= n:\n",
        "                s.append(x[i])\n",
        "        return s\n",
        "    elif exp == '<=':\n",
        "        for i in range(100):\n",
        "            if x[i] <= n:\n",
        "                s.append(x[i])\n",
        "        return s\n",
        "    else:\n",
        "        return x"
      ],
      "execution_count": 12,
      "outputs": []
    },
    {
      "cell_type": "markdown",
      "metadata": {
        "id": "yz9aEhW6JXbx"
      },
      "source": [
        "### Exercise 6\n",
        "Make a function called `counter` that takes a string input_string and returns a dictionary of letter counts."
      ]
    },
    {
      "cell_type": "code",
      "metadata": {
        "id": "VXAAFG6LJXby",
        "colab": {
          "base_uri": "https://localhost:8080/"
        },
        "outputId": "fbfceda5-2d24-4f9c-8ccc-b258d63e8a92"
      },
      "source": [
        "# Your answer here\n",
        "\n",
        "def counter(input_string):\n",
        "    count = {}\n",
        "    for letter in input_string:\n",
        "        if letter in count:\n",
        "            count[letter] += 1\n",
        "        else:\n",
        "            count[letter] = 1\n",
        "    return count\n",
        "counter ('massachusetts')         "
      ],
      "execution_count": null,
      "outputs": [
        {
          "output_type": "execute_result",
          "data": {
            "text/plain": [
              "{'a': 2, 'c': 1, 'e': 1, 'h': 1, 'm': 1, 's': 4, 't': 2, 'u': 1}"
            ]
          },
          "metadata": {
            "tags": []
          },
          "execution_count": 27
        }
      ]
    },
    {
      "cell_type": "markdown",
      "metadata": {
        "id": "PzGcGpQtJXbz"
      },
      "source": [
        "### Exercise 7\n",
        "From the function `counter` make function `counter_sorted` with second boolean argumens `reverse` that returns sorted letter counts. Order depends of the `reverse` argument. By default `reverse = False`"
      ]
    },
    {
      "cell_type": "code",
      "metadata": {
        "id": "gSQjylA1JXb0"
      },
      "source": [
        "# Your answer here\n",
        "def counter_sorted(input_string, reverse = False):\n",
        "    letters = {}\n",
        "    input_string = input_string.lower()\n",
        "    input_string = list(input_string)\n",
        "    for letter in input_string:\n",
        "        if letter.isalpha():\n",
        "           if letter in letters:\n",
        "              letters[letter] += 1\n",
        "           else:\n",
        "              letters[letter] = 1\n",
        "    sorted_letters = list(letters.keys())\n",
        "    sorted_letters.sort()\n",
        "    if reverse:\n",
        "        sorted_dict = {sorted_letters[len(sorted_letters) - (i+1)] : letters.get(sorted_letters[len(sorted_letters) - (i+1)]) for i in range (len(sorted_letters))} \n",
        "    else:\n",
        "        sorted_dict = {sorted_letters[i] : letters.get(sorted_letters[i]) for i in range (len(sorted_letters))}\n",
        "  "
      ],
      "execution_count": 21,
      "outputs": []
    }
  ]
}