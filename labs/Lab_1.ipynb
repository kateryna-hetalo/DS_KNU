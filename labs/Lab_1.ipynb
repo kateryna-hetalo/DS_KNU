{
  "nbformat": 4,
  "nbformat_minor": 0,
  "metadata": {
    "language_info": {
      "codemirror_mode": {
        "name": "ipython",
        "version": 3
      },
      "file_extension": ".py",
      "mimetype": "text/x-python",
      "name": "python",
      "nbconvert_exporter": "python",
      "pygments_lexer": "ipython3",
      "version": "3.7.10"
    },
    "orig_nbformat": 2,
    "kernelspec": {
      "name": "python3710jvsc74a57bd097ae724bfa85b9b34df7982b8bb8c7216f435b92902d749e4263f71162bea840",
      "display_name": "Python 3.7.10 64-bit ('base': conda)"
    },
    "colab": {
      "name": "Lab_1.ipynb",
      "provenance": [],
      "include_colab_link": true
    }
  },
  "cells": [
    {
      "cell_type": "markdown",
      "metadata": {
        "id": "view-in-github",
        "colab_type": "text"
      },
      "source": [
        "<a href=\"https://colab.research.google.com/github/kateryna-hetalo/DS_KNU/blob/main/labs/Lab_1.ipynb\" target=\"_parent\"><img src=\"https://colab.research.google.com/assets/colab-badge.svg\" alt=\"Open In Colab\"/></a>"
      ]
    },
    {
      "cell_type": "markdown",
      "metadata": {
        "id": "L4yDYuIwJXbG"
      },
      "source": [
        "# Lab 1 - Python introduction\n"
      ]
    },
    {
      "cell_type": "markdown",
      "metadata": {
        "id": "1l0UIt6XJXbb"
      },
      "source": [
        "### Exercise 0 - Example\n",
        "Assign the number 31 to a new variable, q. Write an expression that raises q to the 4th power "
      ]
    },
    {
      "cell_type": "code",
      "metadata": {
        "id": "7yb6N5H-JXbe",
        "outputId": "d4d4ecd9-da65-42ef-bb62-625527bf7d31"
      },
      "source": [
        "# Your answer here\n",
        "q = 31\n",
        "q**4"
      ],
      "execution_count": null,
      "outputs": [
        {
          "output_type": "execute_result",
          "data": {
            "text/plain": [
              "923521"
            ]
          },
          "metadata": {
            "tags": []
          },
          "execution_count": 67
        }
      ]
    },
    {
      "cell_type": "markdown",
      "metadata": {
        "id": "4zhIYlLQJXbi"
      },
      "source": [
        "### Exercise 1\n",
        "Create arbitrary list, tuple and dictionary and print them"
      ]
    },
    {
      "cell_type": "code",
      "metadata": {
        "id": "ohwRnSmKJXbk"
      },
      "source": [
        "# Your answer here\n",
        "\tlist_1 = ['Data','Science','4']\n",
        "\tprint(list_1)\n",
        "\ttuple_1 = (16, 4, 2021)\n",
        "\tprint(tuple_1)\n",
        "\tdict_1 = {'students': ['Alona', 'Kateryna', 'Anna']}\n",
        "\tprint(dict_1)\n"
      ],
      "execution_count": null,
      "outputs": []
    },
    {
      "cell_type": "markdown",
      "metadata": {
        "id": "Dh4M6_wVJXbl"
      },
      "source": [
        "### Exercise 2\n",
        "Print the next elements of array s: 10th, from 10 to 20, all elements more than 0 "
      ]
    },
    {
      "cell_type": "code",
      "metadata": {
        "id": "Fya9GwAxJXbn"
      },
      "source": [
        "import numpy as np\n",
        "s = np.random.normal(0,1,100)\n",
        "\n",
        "# Your answer here\n",
        "\tprint(s[9], s[9:19])\n",
        "\tfor i in range (100):\n",
        "        if s[i] > 0:\n",
        "\t        print(s[i])\n"
      ],
      "execution_count": null,
      "outputs": []
    },
    {
      "cell_type": "markdown",
      "metadata": {
        "id": "OTLSAD9MJXbo"
      },
      "source": [
        "### Exercise 3\n",
        "Make a function `pow` that raised base `number` to a fixed power `power`. If `power >= 50` print message \"power is too big\" and return `-1`"
      ]
    },
    {
      "cell_type": "code",
      "metadata": {
        "id": "jcZHhA6_JXbp"
      },
      "source": [
        "# Your answer here\n",
        "def pow (number, power):\n",
        "    if power >= 50:\n",
        "        print(\"power is too big\")\n",
        "        return -1\n",
        "    else:\n",
        "        return number**power\n"
      ],
      "execution_count": null,
      "outputs": []
    },
    {
      "cell_type": "markdown",
      "metadata": {
        "id": "xJDiCn15JXbr"
      },
      "source": [
        "### Exercise 4\n",
        "Make a function `above(x,n)` which returns all elements `x > n`. By default `x = 10`. Use numpy arrays"
      ]
    },
    {
      "cell_type": "code",
      "metadata": {
        "id": "H76U-wzuJXbs"
      },
      "source": [
        "import numpy as np\n",
        "# Your answer here\n",
        "\n"
      ],
      "execution_count": null,
      "outputs": []
    },
    {
      "cell_type": "markdown",
      "metadata": {
        "id": "IGOMIer7JXbu"
      },
      "source": [
        "### Exercise 5\n",
        "Write a function `my_ifelse(x, exp, n)` which test array `x` with expression `exp` to number `n`. For instance, `my_ifelse(x,'>=',10)` returns all elements of array `x` which greater or equal 10. `exp` can be `<`, `>`, `<=`, `>=`, `==`. If `exp` dont match these expression array `x` is retured"
      ]
    },
    {
      "cell_type": "code",
      "metadata": {
        "id": "G9tRp-ioJXbv"
      },
      "source": [
        "import numpy as np\n",
        "# Your answer here\n",
        "\n",
        "x = np.random.normal(0,1,100)\n",
        "s  = []\n",
        "def my_ifelse(x, exp, n):\n",
        "    if exp == '==':\n",
        "        for i in range(100):\n",
        "            if x[i] == n:\n",
        "                s.append(x[i])\n",
        "        return s\n",
        "    elif exp == '<':\n",
        "        for i in range(100):\n",
        "            if x[i] < n:\n",
        "                s.append(x[i])\n",
        "        return s\n",
        "    elif exp == '>':\n",
        "        for i in range(100):\n",
        "            if x[i] > n:\n",
        "                s.append(x[i])\n",
        "        return s\n",
        "    elif exp == '>=':\n",
        "        for i in range(100):\n",
        "            if x[i] >= n:\n",
        "                s.append(x[i])\n",
        "        return s\n",
        "    elif exp == '<=':\n",
        "        for i in range(100):\n",
        "            if x[i] <= n:\n",
        "                s.append(x[i])\n",
        "        return s\n",
        "    else:\n",
        "        return x"
      ],
      "execution_count": null,
      "outputs": []
    },
    {
      "cell_type": "markdown",
      "metadata": {
        "id": "yz9aEhW6JXbx"
      },
      "source": [
        "### Exercise 6\n",
        "Make a function called `counter` that takes a string input_string and returns a dictionary of letter counts."
      ]
    },
    {
      "cell_type": "code",
      "metadata": {
        "id": "VXAAFG6LJXby"
      },
      "source": [
        "# Your answer here\n",
        "def counter (input_string):\n",
        "    letters = {}\n",
        "    input_string = list(input_string)\n",
        "    for letter in input_string:\n",
        "        if letter.isalpha():\n",
        "            if letter in letters:\n",
        "                letters[letter] += 1\n",
        "            else:\n",
        "                letters[letter] = 1\n",
        "    return letters\n"
      ],
      "execution_count": null,
      "outputs": []
    },
    {
      "cell_type": "markdown",
      "metadata": {
        "id": "PzGcGpQtJXbz"
      },
      "source": [
        "### Exercise 7\n",
        "From the function `counter` make function `counter_sorted` with second boolean argumens `reverse` that returns sorted letter counts. Order depends of the `reverse` argument. By default `reverse = False`"
      ]
    },
    {
      "cell_type": "code",
      "metadata": {
        "id": "gSQjylA1JXb0"
      },
      "source": [
        "# Your answer here\n",
        "def counter_sorted(input_string, reverse = False):\n",
        "    letters ={}\n",
        "    input_string = input_string.lower()\n",
        "    input_string = list(input_string)\n",
        "    for letter in input_string:\n",
        "        if letter.isalpha():\n",
        "            if letter in letters:\n",
        "                letters[letter] += 1\n",
        "            else:\n",
        "                letters[letter] = 1\n",
        "    sorted_letters = list(letters.keys())\n",
        "    sorted_letters.sort()\n",
        "    if reverse:\n",
        "        sorted_dict = {sorted_letters[len(sorted_letters) - (i+1)] : letters.get(sorted_letters[i]) for i in range (len(sorted_letters))}\n",
        "    else:\n",
        "        sorted_dict = {sorted_letters[i] : letters.get(sorted_letters[i]) for i in range (len(sorted_letters))}\n",
        "        \n",
        "    return sorted_dict\n"
      ],
      "execution_count": null,
      "outputs": []
    }
  ]
}